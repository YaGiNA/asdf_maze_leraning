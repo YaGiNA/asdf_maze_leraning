{
 "cells": [
  {
   "cell_type": "code",
   "execution_count": 1,
   "metadata": {},
   "outputs": [],
   "source": [
    "import numpy as np\n",
    "import gym\n",
    "\n",
    "\n",
    "class MazeEnv(gym.Env):\n",
    "    def __init__(self, point_holes, row, col):\n",
    "        self.nrow = row\n",
    "        self.ncol = col\n",
    "        self.col = 0\n",
    "        self.row = 0\n",
    "        self.grids = self.__set_points(point_holes)\n",
    "\n",
    "    def __set_points(self, point_holes):\n",
    "        grids = [[\"F\" for _ in range(self.ncol)] for _ in range(self.nrow)]\n",
    "        grids[self.col][self.row] = \"S\"   # Set start point\n",
    "        grids[-1][-1] = \"G\"  # Set goal point\n",
    "        for point_hole in point_holes:   # Set hole points\n",
    "            row, col = point_hole\n",
    "            grids[row][col] = \"H\"\n",
    "        final_grids = [\"\".join(grid_row) for grid_row in grids]\n",
    "        return final_grids\n",
    "\n",
    "    def step(self, action):\n",
    "        self.transition(action)\n",
    "        new_state = self.get_state()\n",
    "        reward = 0\n",
    "        done = False\n",
    "        grid = self.grids[self.row][self.col]\n",
    "        if grid == \"H\":\n",
    "            # done = True\n",
    "            reward = -10\n",
    "        elif grid == \"G\":\n",
    "            done = True   # Stop step when agent come only goal\n",
    "            reward = 100\n",
    "        return new_state, reward, done, \"\"\n",
    "\n",
    "    def reset(self):\n",
    "        self.col = 0\n",
    "        self.row = 0\n",
    "        return 0\n",
    "\n",
    "    def transition(self, action):\n",
    "        if action == 0:    # LEFT\n",
    "            self.co = max(0, self.col-1)\n",
    "        elif action == 1:  # DOWN\n",
    "            self.row = min(self.row+1, self.nrow-1)\n",
    "        elif action == 2:  # RIGHT\n",
    "            self.col = min(self.col+1, self.ncol-1)\n",
    "        elif action == 3:  # UP\n",
    "            self.row = max(self.row-1, 0)\n",
    "\n",
    "    def get_state(self):\n",
    "        return self.row * self.ncol + self.col"
   ]
  },
  {
   "cell_type": "code",
   "execution_count": 2,
   "metadata": {},
   "outputs": [],
   "source": [
    "def epsilon_greedy(Q, state, action_num, epsilon):\n",
    "    if np.random.random() < epsilon:\n",
    "        return np.random.randint(action_num)\n",
    "    else:\n",
    "        return np.random.choice(np.where(Q[state, ] == Q[state, ].max())[0])"
   ]
  },
  {
   "cell_type": "code",
   "execution_count": 3,
   "metadata": {},
   "outputs": [],
   "source": [
    "num_episodes = 1000\n",
    "alpha = 0.2\n",
    "gamma = 0.9\n",
    "epsilon = 0.2\n",
    "col, row = 5, 5\n",
    "point_holes = [(0, 3), (1, 1), (2, 1), (2, 3), (3, 3), (4, 1)]\n",
    "rewards = []\n",
    "env = MazeEnv(point_holes, col, row)\n",
    "state_num, action_num = col * row, 4\n",
    "Q = np.zeros((state_num, action_num))"
   ]
  },
  {
   "cell_type": "code",
   "execution_count": 4,
   "metadata": {},
   "outputs": [
    {
     "name": "stdout",
     "output_type": "stream",
     "text": [
      "SFFHF\n",
      "FHFFF\n",
      "FHFHF\n",
      "FFFHF\n",
      "FHFFG\n"
     ]
    }
   ],
   "source": [
    "print(\"\\n\".join(env.grids))"
   ]
  },
  {
   "cell_type": "code",
   "execution_count": 5,
   "metadata": {},
   "outputs": [
    {
     "name": "stdout",
     "output_type": "stream",
     "text": [
      "[80, 80, 80, 80, 90, 100, 80, 70, 90, 80]\n",
      "[100, 100, 100, 100, 90, 100, 100, 100, 100, 100]\n"
     ]
    }
   ],
   "source": [
    "for i in range(num_episodes):\n",
    "    s = env.reset()\n",
    "    episode_reward = 0\n",
    "    while True:\n",
    "        a = epsilon_greedy(Q, s, action_num, epsilon)\n",
    "        s1, r, d, _ = env.step(a)\n",
    "        episode_reward += r\n",
    "        Q[s, a] += alpha * (r + gamma * Q[s1, ].max() - Q[s, a])\n",
    "        s = s1\n",
    "        if d:\n",
    "            break\n",
    "    rewards.append(episode_reward)\n",
    "print(rewards[:10], rewards[-10:], sep='\\n')  # Show head & tail of rewards"
   ]
  },
  {
   "cell_type": "code",
   "execution_count": 6,
   "metadata": {},
   "outputs": [
    {
     "name": "stdout",
     "output_type": "stream",
     "text": [
      "→→↓↓↓\n",
      "→→→→↓\n",
      "↓↓↑→↓\n",
      "→→↑↓↓\n",
      "←↑→→←\n"
     ]
    }
   ],
   "source": [
    "action_to_arrow = {\n",
    "    0: \"←\",\n",
    "    1: \"↓\",\n",
    "    2: \"→\",\n",
    "    3: \"↑\"\n",
    "}\n",
    "for row in range(5):\n",
    "    for col in range(5):\n",
    "        print(action_to_arrow[Q[row*5+col, ].argmax()], end=\"\")\n",
    "    print()"
   ]
  },
  {
   "cell_type": "code",
   "execution_count": 7,
   "metadata": {},
   "outputs": [
    {
     "name": "stdout",
     "output_type": "stream",
     "text": [
      "[[[ 4.305e+01  3.881e+01  4.783e+01  4.305e+01]\n",
      "  [ 4.783e+01  4.314e+01  5.314e+01  4.783e+01]\n",
      "  [ 5.314e+01  5.905e+01  4.905e+01  5.314e+01]\n",
      "  [ 4.150e+01  6.561e+01  4.778e+01  3.243e+01]\n",
      "  [ 4.066e+01  7.290e+01  4.817e+01  4.053e+01]]\n",
      "\n",
      " [[ 1.367e+01  5.900e-01  4.314e+01  0.000e+00]\n",
      "  [ 1.921e+01  3.900e-01  5.905e+01  2.334e+01]\n",
      "  [ 5.905e+01  5.311e+01  6.561e+01  5.314e+01]\n",
      "  [ 6.561e+01  6.290e+01  7.290e+01  4.905e+01]\n",
      "  [ 7.290e+01  8.100e+01  7.290e+01  6.561e+01]]\n",
      "\n",
      " [[ 0.000e+00  2.990e+00 -2.000e+00  0.000e+00]\n",
      "  [ 0.000e+00  2.157e+01  0.000e+00 -2.000e+00]\n",
      "  [ 3.126e+01  3.062e+01  1.490e+01  5.905e+01]\n",
      "  [ 3.112e+01 -3.700e+00  8.100e+01  0.000e+00]\n",
      "  [ 8.100e+01  9.000e+01  8.100e+01  7.290e+01]]\n",
      "\n",
      " [[ 0.000e+00  0.000e+00  1.127e+01  0.000e+00]\n",
      "  [ 0.000e+00 -3.600e+00  3.844e+01 -4.300e+00]\n",
      "  [ 3.440e+00  1.580e+00 -2.000e+00  5.195e+01]\n",
      "  [-1.350e+00  1.959e+01  0.000e+00  0.000e+00]\n",
      "  [ 9.000e+01  1.000e+02  9.000e+01  8.100e+01]]\n",
      "\n",
      " [[ 0.000e+00  0.000e+00 -2.000e+00  0.000e+00]\n",
      "  [ 0.000e+00  0.000e+00  0.000e+00  2.000e-02]\n",
      "  [ 0.000e+00  0.000e+00  1.765e+01  0.000e+00]\n",
      "  [ 0.000e+00  0.000e+00  7.379e+01  0.000e+00]\n",
      "  [ 0.000e+00  0.000e+00  0.000e+00  0.000e+00]]]\n"
     ]
    }
   ],
   "source": [
    "print(np.round(Q.reshape([5, 5, 4]), 2))  # separate by col & row"
   ]
  }
 ],
 "metadata": {
  "kernelspec": {
   "display_name": "Python 3",
   "language": "python",
   "name": "python3"
  },
  "language_info": {
   "codemirror_mode": {
    "name": "ipython",
    "version": 3
   },
   "file_extension": ".py",
   "mimetype": "text/x-python",
   "name": "python",
   "nbconvert_exporter": "python",
   "pygments_lexer": "ipython3",
   "version": "3.7.5"
  }
 },
 "nbformat": 4,
 "nbformat_minor": 2
}
